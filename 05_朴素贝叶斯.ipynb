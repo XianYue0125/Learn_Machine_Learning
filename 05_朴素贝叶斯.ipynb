{
 "cells": [
  {
   "cell_type": "code",
   "execution_count": 1,
   "metadata": {
    "collapsed": true,
    "trusted": false,
    "pycharm": {
     "name": "#%%\n"
    }
   },
   "outputs": [],
   "source": [
    "from sklearn.naive_bayes import MultinomialNB\n",
    "import pandas as pd\n",
    "import codecs\n",
    "import re\n",
    "import jieba\n",
    "import time\n",
    "from sklearn.feature_extraction.text import CountVectorizer\n",
    "import numpy as np\n",
    "from sklearn.model_selection import train_test_split\n",
    "import joblib\n",
    "from collections import Counter\n",
    "import random\n",
    "\n",
    "filename1 = 'data/trec06c/data1.csv'\n",
    "filename2 = 'data/trec06c/data2.csv'\n",
    "filename3 = 'data/trec06c/data3.csv'"
   ]
  },
  {
   "cell_type": "code",
   "execution_count": 3,
   "outputs": [],
   "source": [
    "# 加载邮件\n",
    "email_labels = [] # 用来存邮件的标签数据 是不是垃圾邮件\n",
    "email_contents = [] # 用来保存邮件的内容\n",
    "sample_number = 500\n",
    "\n",
    "for line in open('data/trec06c/full/index',errors='ignore'):\n",
    "    label,data = line.strip().split()\n",
    "    file_name = 'data/trec06c'+data[2:]\n",
    "    file_data = codecs.open(file_name,'r','gbk',errors='ignore').read()\n",
    "\n",
    "    email_labels.append(label)\n",
    "    email_contents.append(file_data)\n",
    "email_data = pd.DataFrame({'content':email_contents,'label':email_labels})"
   ],
   "metadata": {
    "collapsed": false,
    "pycharm": {
     "name": "#%%\n"
    }
   }
  },
  {
   "cell_type": "code",
   "execution_count": 8,
   "outputs": [
    {
     "data": {
      "text/plain": "'Received: from jdl.ac.cn ([159.226.42.8])\\n\\tby spam-gw.ccert.edu.cn (MIMEDefang) with ESMTP id j7C1ceuQ019050\\n\\tfor <shi@ccert.edu.cn>; Sun, 14 Aug 2005 10:02:01 +0800 (CST)\\nReceived: (qmail 5448 invoked from network); Sun, 14 Aug 2005 02:12:48 -0000\\nReceived: from unknown (HELO d47db5334f2a479) (192.168.0.233)\\n  by 159.226.42.8 with SMTP; Sun, 14 Aug 2005 02:12:48 -0000\\nMessage-ID: <000b01c59ee0$a1f666b0$e900a8c0@d47db5334f2a479>\\nFrom: \"pan\" <pan@jdl.ac.cn>\\nTo: shi@ccert.edu.cn\\nSubject: =?gb2312?B?ofEgzsrSu7K/zrrX2s3ytcS159Oww/uzxg==?=\\nDate: Sun, 14 Aug 2005 10:16:47 +0800\\nMIME-Version: 1.0\\nContent-Type: text/plain;\\n\\tcharset=\"gb2312\"\\nContent-Transfer-Encoding: base64\\nX-Priority: 3\\nX-MSMail-Priority: Normal\\nX-Mailer: Microsoft Outlook Express 6.00.2800.1506\\nX-MimeOLE: Produced By Microsoft MimeOLE V6.00.2800.1506\\n\\n讲的是孔子后人的故事。一个老领导回到家乡，跟儿子感情不和，跟贪财的孙子孔为本和睦。\\n老领导的弟弟魏宗万是赶马车的。\\n有个洋妞大概是考察民俗的，在他们家过年。\\n孔为本总想出国，被爷爷教育了。\\n最后，一家人基本和解。\\n顺便问另一类电影，北京青年电影制片厂的。中越战背景。一军人被介绍了一个对象，去相亲。女方是军队医院的护士，犹豫不决，总是在回忆战场上负伤的男友，好像还没死。最后\\n男方表示理解，归队了。\\n'"
     },
     "execution_count": 8,
     "metadata": {},
     "output_type": "execute_result"
    }
   ],
   "source": [
    "email_data.content[1]"
   ],
   "metadata": {
    "collapsed": false,
    "pycharm": {
     "name": "#%%\n"
    }
   }
  },
  {
   "cell_type": "code",
   "execution_count": 9,
   "outputs": [],
   "source": [
    "spam_mail = email_data[email_data['label']=='spam'].sample(sample_number)\n",
    "ham_mail = email_data[email_data['label']=='ham'].sample(sample_number)\n",
    "\n",
    "email_data = pd.concat([spam_mail,ham_mail])\n",
    "email_data.to_csv(filename1)"
   ],
   "metadata": {
    "collapsed": false,
    "pycharm": {
     "name": "#%%\n"
    }
   }
  },
  {
   "cell_type": "code",
   "execution_count": 13,
   "outputs": [
    {
     "data": {
      "text/plain": "(1000, 2)"
     },
     "execution_count": 13,
     "metadata": {},
     "output_type": "execute_result"
    }
   ],
   "source": [
    "email_data.shape"
   ],
   "metadata": {
    "collapsed": false,
    "pycharm": {
     "name": "#%%\n"
    }
   }
  },
  {
   "cell_type": "markdown",
   "source": [
    "## 邮件数据处理， 去除换行，非中文，空白，然后分词"
   ],
   "metadata": {
    "collapsed": false,
    "pycharm": {
     "name": "#%% md\n"
    }
   }
  },
  {
   "cell_type": "code",
   "execution_count": 21,
   "outputs": [
    {
     "name": "stdout",
     "output_type": "stream",
     "text": [
      "已预处理100封邮件\n",
      "已预处理200封邮件\n",
      "已预处理300封邮件\n",
      "已预处理400封邮件\n",
      "已预处理500封邮件\n",
      "已预处理600封邮件\n",
      "已预处理700封邮件\n",
      "已预处理800封邮件\n",
      "已预处理900封邮件\n",
      "已预处理1000封邮件\n"
     ]
    }
   ],
   "source": [
    "# 1. 读取数据\n",
    "email_data = pd.read_csv('data/trec06c/data1.csv')\n",
    "contents=[]\n",
    "for index,email in enumerate(email_data['content'],1):\n",
    "    email = email.replace('\\n',' ')\n",
    "    # 2. 去除非中文内容\n",
    "    email = re.sub('[^\\u4e00-\\u9fff]', '', email)\n",
    "    # 3. 去除多余空白\n",
    "    email = ' '.join(email.split())\n",
    "    # 4. 分词\n",
    "    email = ' '.join(jieba.lcut(email)) # 使用jieba 库做中文的分词\n",
    "\n",
    "    contents.append(email)\n",
    "    if index % 100 ==0:\n",
    "        print('已预处理%d封邮件' % index)"
   ],
   "metadata": {
    "collapsed": false,
    "pycharm": {
     "name": "#%%\n"
    }
   }
  },
  {
   "cell_type": "code",
   "execution_count": 22,
   "outputs": [],
   "source": [
    "data = pd.DataFrame({'contents':contents,'label':email_data['label']})"
   ],
   "metadata": {
    "collapsed": false,
    "pycharm": {
     "name": "#%%\n"
    }
   }
  },
  {
   "cell_type": "code",
   "execution_count": 24,
   "outputs": [],
   "source": [
    "data.to_csv(filename2)"
   ],
   "metadata": {
    "collapsed": false,
    "pycharm": {
     "name": "#%%\n"
    }
   }
  },
  {
   "cell_type": "markdown",
   "source": [
    "## 邮件数据向量化"
   ],
   "metadata": {
    "collapsed": false,
    "pycharm": {
     "name": "#%% md\n"
    }
   }
  },
  {
   "cell_type": "code",
   "execution_count": 36,
   "outputs": [],
   "source": [
    "email = pd.read_csv(filename2)\n",
    "email.dropna(inplace=True)\n",
    "# 准备加载停用词表\n",
    "stop_words=[]\n",
    "for word in open('data/trec06c/stoplist.txt','r',encoding='gbk'):\n",
    "    stop_words.append(word.strip())\n",
    "transformer = CountVectorizer(stop_words=stop_words)\n",
    "x = transformer.fit_transform(email['contents']).toarray()\n",
    "y = np.where(email['label'].values =='ham',0,1)\n",
    "data = DataFrame(x)\n",
    "data[x.shape[1]] = y\n",
    "data.to_csv(filename3)"
   ],
   "metadata": {
    "collapsed": false,
    "pycharm": {
     "name": "#%%\n"
    }
   }
  },
  {
   "cell_type": "markdown",
   "source": [
    "## 训练朴素贝叶斯模型"
   ],
   "metadata": {
    "collapsed": false,
    "pycharm": {
     "name": "#%% md\n"
    }
   }
  },
  {
   "cell_type": "code",
   "execution_count": 37,
   "outputs": [],
   "source": [
    "data = pd.read_csv(filename3)\n",
    "x = data.iloc[:, :-1]\n",
    "y = data.iloc[:, -1]"
   ],
   "metadata": {
    "collapsed": false,
    "pycharm": {
     "name": "#%%\n"
    }
   }
  },
  {
   "cell_type": "code",
   "execution_count": 38,
   "outputs": [
    {
     "data": {
      "text/plain": "0.8860103626943006"
     },
     "execution_count": 38,
     "metadata": {},
     "output_type": "execute_result"
    }
   ],
   "source": [
    "x_train,x_test,y_train,y_test = train_test_split(x,y,test_size=0.2)\n",
    "estimator = MultinomialNB()\n",
    "estimator.fit(x_train,y_train)\n",
    "\n",
    "estimator.score(x_test,y_test)"
   ],
   "metadata": {
    "collapsed": false,
    "pycharm": {
     "name": "#%%\n"
    }
   }
  }
 ],
 "metadata": {
  "kernelspec": {
   "display_name": "Python 3",
   "language": "python",
   "name": "python3"
  },
  "language_info": {
   "codemirror_mode": {
    "name": "ipython",
    "version": 2
   },
   "file_extension": ".py",
   "mimetype": "text/x-python",
   "name": "python",
   "nbconvert_exporter": "python",
   "pygments_lexer": "ipython2",
   "version": "2.7.6"
  }
 },
 "nbformat": 4,
 "nbformat_minor": 0
}