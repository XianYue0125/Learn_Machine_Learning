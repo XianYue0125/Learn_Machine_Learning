{
 "cells": [
  {
   "cell_type": "code",
   "execution_count": 1,
   "metadata": {
    "trusted": true,
    "pycharm": {
     "name": "#%%\n"
    }
   },
   "outputs": [
    {
     "name": "stdout",
     "output_type": "stream",
     "text": [
      "<class 'pandas.core.frame.DataFrame'>\n",
      "RangeIndex: 891 entries, 0 to 890\n",
      "Data columns (total 12 columns):\n",
      " #   Column       Non-Null Count  Dtype  \n",
      "---  ------       --------------  -----  \n",
      " 0   PassengerId  891 non-null    int64  \n",
      " 1   Survived     891 non-null    int64  \n",
      " 2   Pclass       891 non-null    int64  \n",
      " 3   Name         891 non-null    object \n",
      " 4   Sex          891 non-null    object \n",
      " 5   Age          714 non-null    float64\n",
      " 6   SibSp        891 non-null    int64  \n",
      " 7   Parch        891 non-null    int64  \n",
      " 8   Ticket       891 non-null    object \n",
      " 9   Fare         891 non-null    float64\n",
      " 10  Cabin        204 non-null    object \n",
      " 11  Embarked     889 non-null    object \n",
      "dtypes: float64(2), int64(5), object(5)\n",
      "memory usage: 83.7+ KB\n"
     ]
    },
    {
     "name": "stderr",
     "output_type": "stream",
     "text": [
      "/root/anaconda3/lib/python3.8/site-packages/pandas/core/series.py:4517: SettingWithCopyWarning: \n",
      "A value is trying to be set on a copy of a slice from a DataFrame\n",
      "\n",
      "See the caveats in the documentation: https://pandas.pydata.org/pandas-docs/stable/user_guide/indexing.html#returning-a-view-versus-a-copy\n",
      "  return super().fillna(\n"
     ]
    },
    {
     "data": {
      "text/plain": "0.7802690582959642"
     },
     "execution_count": 1,
     "metadata": {},
     "output_type": "execute_result"
    }
   ],
   "source": [
    "#1.数据导入\n",
    "#1.1导入数据\n",
    "import pandas as pd\n",
    "#1.2.利用pandas的read.csv模块从互联网中收集泰坦尼克号数据集\n",
    "titanic=pd.read_csv(\"data/泰坦尼克号数据集.csv\")\n",
    "titanic.info() #查看信息\n",
    "#2人工选择特征pclass,age,sex\n",
    "X=titanic[['Pclass','Age','Sex']]\n",
    "y=titanic['Survived']\n",
    "\n",
    "#3.特征工程\n",
    "#数据的填补\n",
    "X['Age'].fillna(X['Age'].mean(),inplace=True)\n",
    "X = pd.get_dummies(X)\n",
    "#数据的切分\n",
    "from sklearn.model_selection import train_test_split\n",
    "X_train, X_test, y_train, y_test =train_test_split(X,y,test_size=0.25,random_state=22)\n",
    "\n",
    "\n",
    "#4.使用单一的决策树进行模型的训练及预测分析\n",
    "from sklearn.tree import DecisionTreeClassifier\n",
    "dtc=DecisionTreeClassifier()\n",
    "dtc.fit(X_train,y_train)\n",
    "dtc_y_pred=dtc.predict(X_test)\n",
    "dtc.score(X_test,y_test)"
   ]
  },
  {
   "cell_type": "code",
   "execution_count": 2,
   "outputs": [
    {
     "data": {
      "text/plain": "0.7623318385650224"
     },
     "execution_count": 2,
     "metadata": {},
     "output_type": "execute_result"
    }
   ],
   "source": [
    "from sklearn.ensemble import RandomForestClassifier\n",
    "rfc=RandomForestClassifier(max_depth=6,random_state=9)\n",
    "rfc.fit(X_train,y_train)\n",
    "rfc_y_pred=rfc.predict(X_test)\n",
    "rfc.score(X_test,y_test)"
   ],
   "metadata": {
    "collapsed": false,
    "pycharm": {
     "name": "#%%\n"
    }
   }
  },
  {
   "cell_type": "code",
   "execution_count": 3,
   "outputs": [
    {
     "name": "stdout",
     "output_type": "stream",
     "text": [
      "              precision    recall  f1-score   support\n",
      "\n",
      "           0       0.86      0.79      0.82       146\n",
      "           1       0.66      0.77      0.71        77\n",
      "\n",
      "    accuracy                           0.78       223\n",
      "   macro avg       0.76      0.78      0.77       223\n",
      "weighted avg       0.79      0.78      0.78       223\n",
      "\n"
     ]
    }
   ],
   "source": [
    "from sklearn.metrics import classification_report\n",
    "print(classification_report(dtc_y_pred,y_test))"
   ],
   "metadata": {
    "collapsed": false,
    "pycharm": {
     "name": "#%%\n"
    }
   }
  },
  {
   "cell_type": "code",
   "execution_count": 4,
   "outputs": [
    {
     "name": "stdout",
     "output_type": "stream",
     "text": [
      "              precision    recall  f1-score   support\n",
      "\n",
      "           0       0.83      0.79      0.81       140\n",
      "           1       0.67      0.72      0.69        83\n",
      "\n",
      "    accuracy                           0.76       223\n",
      "   macro avg       0.75      0.75      0.75       223\n",
      "weighted avg       0.77      0.76      0.76       223\n",
      "\n"
     ]
    }
   ],
   "source": [
    "print(classification_report(rfc_y_pred,y_test))"
   ],
   "metadata": {
    "collapsed": false,
    "pycharm": {
     "name": "#%%\n"
    }
   }
  },
  {
   "cell_type": "code",
   "execution_count": 5,
   "outputs": [
    {
     "data": {
      "text/plain": "0.757847533632287"
     },
     "execution_count": 5,
     "metadata": {},
     "output_type": "execute_result"
    }
   ],
   "source": [
    "rf = RandomForestClassifier()\n",
    "param ={\"n_estimators\":[20,30,40,50,60,80], \"max_depth\": [2,4,6,8,10,12]}\n",
    "from sklearn.model_selection import GridSearchCV\n",
    "estimator = GridSearchCV(rf,param_grid=param,cv=3)\n",
    "estimator.fit(X_train,y_train)\n",
    "estimator.score(X_test,y_test)"
   ],
   "metadata": {
    "collapsed": false,
    "pycharm": {
     "name": "#%%\n"
    }
   }
  },
  {
   "cell_type": "markdown",
   "source": [
    "## Adaboost 葡萄酒数据案例"
   ],
   "metadata": {
    "collapsed": false,
    "pycharm": {
     "name": "#%% md\n"
    }
   }
  },
  {
   "cell_type": "code",
   "execution_count": 6,
   "outputs": [],
   "source": [
    "import pandas as pd\n",
    "df_wine = pd.read_csv('data/wine.data')\n",
    "# 修改列名\n",
    "df_wine.columns = ['Class label', 'Alcohol', 'Malic acid', 'Ash', 'Alcalinity of ash', 'Magnesium', 'Total phenols',\n",
    "                   'Flavanoids', 'Nonflavanoid phenols', 'Proanthocyanins', 'Color intensity', 'Hue', 'OD280/OD315 of diluted wines',\n",
    "                   'Proline']\n",
    "# 去掉一类(1,2,3)\n",
    "df_wine = df_wine[df_wine['Class label'] != 1]\n",
    "# 获取特征值和目标值\n",
    "X = df_wine[['Alcohol', 'Hue']].values\n",
    "y = df_wine['Class label'].values"
   ],
   "metadata": {
    "collapsed": false,
    "pycharm": {
     "name": "#%%\n"
    }
   }
  },
  {
   "cell_type": "code",
   "execution_count": 7,
   "outputs": [],
   "source": [
    "from sklearn.preprocessing import LabelEncoder\n",
    "from sklearn.model_selection import train_test_split\n",
    "le = LabelEncoder()\n",
    "y = le.fit_transform(y)"
   ],
   "metadata": {
    "collapsed": false,
    "pycharm": {
     "name": "#%%\n"
    }
   }
  },
  {
   "cell_type": "code",
   "execution_count": 8,
   "outputs": [],
   "source": [
    "X_train,X_test,y_train,y_test = train_test_split(X,y,test_size=0.4,random_state=1)"
   ],
   "metadata": {
    "collapsed": false,
    "pycharm": {
     "name": "#%%\n"
    }
   }
  },
  {
   "cell_type": "code",
   "execution_count": 9,
   "outputs": [],
   "source": [
    "from sklearn.tree import DecisionTreeClassifier\n",
    "from sklearn.ensemble import AdaBoostClassifier\n",
    "tree = DecisionTreeClassifier(criterion='entropy',max_depth=1,random_state=0)\n",
    "ada = AdaBoostClassifier(base_estimator=tree,n_estimators=500,learning_rate=0.1,random_state=0)"
   ],
   "metadata": {
    "collapsed": false,
    "pycharm": {
     "name": "#%%\n"
    }
   }
  },
  {
   "cell_type": "code",
   "execution_count": 10,
   "outputs": [
    {
     "data": {
      "text/plain": "0.8450704225352113"
     },
     "execution_count": 10,
     "metadata": {},
     "output_type": "execute_result"
    }
   ],
   "source": [
    "from sklearn.metrics import accuracy_score\n",
    "tree = tree.fit(X_train,y_train)\n",
    "y_train_pred = tree.predict(X_train)\n",
    "y_test_pred = tree.predict(X_test)\n",
    "accuracy_score(y_train_pred,y_train)"
   ],
   "metadata": {
    "collapsed": false,
    "pycharm": {
     "name": "#%%\n"
    }
   }
  },
  {
   "cell_type": "code",
   "execution_count": 11,
   "outputs": [
    {
     "data": {
      "text/plain": "0.8541666666666666"
     },
     "execution_count": 11,
     "metadata": {},
     "output_type": "execute_result"
    }
   ],
   "source": [
    "accuracy_score(y_test_pred,y_test)"
   ],
   "metadata": {
    "collapsed": false,
    "pycharm": {
     "name": "#%%\n"
    }
   }
  },
  {
   "cell_type": "code",
   "execution_count": 12,
   "outputs": [
    {
     "data": {
      "text/plain": "1.0"
     },
     "execution_count": 12,
     "metadata": {},
     "output_type": "execute_result"
    }
   ],
   "source": [
    "ada = ada.fit(X_train,y_train)\n",
    "y_train_pred = ada.predict(X_train)\n",
    "y_test_pred = ada.predict(X_test)\n",
    "accuracy_score(y_train_pred,y_train)"
   ],
   "metadata": {
    "collapsed": false,
    "pycharm": {
     "name": "#%%\n"
    }
   }
  },
  {
   "cell_type": "code",
   "execution_count": 13,
   "outputs": [
    {
     "data": {
      "text/plain": "0.875"
     },
     "execution_count": 13,
     "metadata": {},
     "output_type": "execute_result"
    }
   ],
   "source": [
    "accuracy_score(y_test_pred,y_test)"
   ],
   "metadata": {
    "collapsed": false,
    "pycharm": {
     "name": "#%%\n"
    }
   }
  },
  {
   "cell_type": "code",
   "execution_count": 14,
   "outputs": [
    {
     "data": {
      "text/plain": "<Figure size 576x216 with 2 Axes>",
      "image/png": "[encoded data removed]"
     },
     "metadata": {
      "needs_background": "light"
     },
     "output_type": "display_data"
    }
   ],
   "source": [
    "import numpy as np\n",
    "import matplotlib.pyplot as plt\n",
    "x_min,x_max = X_train[:,0].min() - 1,X_train[:,0].max() + 1\n",
    "y_min,y_max = X_train[:,1].min() - 1,X_train[:,1].max() + 1\n",
    "xx, yy = np.meshgrid(np.arange(x_min,x_max,0.1),np.arange(y_min,y_max,0.1))\n",
    "f,axarr = plt.subplots(1,2,sharex='col',sharey='row',figsize=(8,3))\n",
    "\n",
    "for idx,clf,tt in zip([0,1],[tree,ada],['Decision Tree', 'AdaBoost']):\n",
    "    clf.fit(X_train,y_train)\n",
    "\n",
    "    Z = clf.predict(np.c_[xx.ravel(), yy.ravel()])\n",
    "    Z = Z.reshape(xx.shape)\n",
    "\n",
    "    axarr[idx].contourf(xx,yy,Z,alpha = 0.3)\n",
    "    axarr[idx].scatter(X_train[y_train==0,0],X_train[y_train==0,1],c='blue',marker='^')\n",
    "    axarr[idx].scatter(X_train[y_train==1,0],X_train[y_train==1,1],c='red',marker='o')\n",
    "    axarr[idx].set_title(tt)\n",
    "\n",
    "axarr[0].set_ylabel('Alcohol', fontsize=12)\n",
    "plt.text(10.2,-1.2,s='Hue',ha='center',va='center',fontsize = 12)\n",
    "plt.tight_layout()"
   ],
   "metadata": {
    "collapsed": false,
    "pycharm": {
     "name": "#%%\n"
    }
   }
  },
  {
   "cell_type": "markdown",
   "source": [
    "## 车辆贷款违约预测"
   ],
   "metadata": {
    "collapsed": false,
    "pycharm": {
     "name": "#%% md\n"
    }
   }
  },
  {
   "cell_type": "code",
   "execution_count": 15,
   "outputs": [],
   "source": [
    "import joblib\n",
    "from sklearn.ensemble import RandomForestClassifier\n",
    "import pandas as pd\n",
    "from sklearn.model_selection import train_test_split\n",
    "import joblib\n",
    "import numpy as np\n",
    "from collections import Counter"
   ],
   "metadata": {
    "collapsed": false,
    "pycharm": {
     "name": "#%%\n"
    }
   }
  },
  {
   "cell_type": "code",
   "execution_count": 27,
   "outputs": [],
   "source": [
    "# 1. 加载数据集\n",
    "data = pd.read_csv('data/车辆贷款违约预测.csv')"
   ],
   "metadata": {
    "collapsed": false,
    "pycharm": {
     "name": "#%%\n"
    }
   }
  },
  {
   "cell_type": "code",
   "execution_count": 28,
   "outputs": [],
   "source": [
    "# 基本数据处理\n",
    "data = data.drop(['customer_id','disbursed_date'],axis = 1)"
   ],
   "metadata": {
    "collapsed": false,
    "pycharm": {
     "name": "#%%\n"
    }
   }
  },
  {
   "cell_type": "code",
   "execution_count": 30,
   "outputs": [
    {
     "data": {
      "text/plain": "       main_account_loan_no  main_account_active_loan_no  \\\ncount         150000.000000                150000.000000   \nmean               2.447133                     1.045500   \nstd                5.197172                     1.952708   \nmin                0.000000                     0.000000   \n25%                0.000000                     0.000000   \n50%                1.000000                     0.000000   \n75%                3.000000                     1.000000   \nmax              354.000000                   144.000000   \n\n       main_account_overdue_no  main_account_outstanding_loan  \\\ncount            150000.000000                   1.500000e+05   \nmean                  0.153427                   1.670825e+05   \nstd                   0.542496                   9.808619e+05   \nmin                   0.000000                  -6.678296e+06   \n25%                   0.000000                   0.000000e+00   \n50%                   0.000000                   0.000000e+00   \n75%                   0.000000                   3.545900e+04   \nmax                  23.000000                   9.652492e+07   \n\n       main_account_sanction_loan  main_account_disbursed_loan  \\\ncount                1.500000e+05                 1.500000e+05   \nmean                 2.225586e+05                 2.221730e+05   \nstd                  2.840313e+06                 2.844075e+06   \nmin                  0.000000e+00                 0.000000e+00   \n25%                  0.000000e+00                 0.000000e+00   \n50%                  0.000000e+00                 0.000000e+00   \n75%                  6.360000e+04                 6.150850e+04   \nmax                  1.000000e+09                 1.000000e+09   \n\n       sub_account_loan_no  sub_account_active_loan_no  \\\ncount        150000.000000               150000.000000   \nmean              0.060133                    0.027967   \nstd               0.652912                    0.325185   \nmin               0.000000                    0.000000   \n25%               0.000000                    0.000000   \n50%               0.000000                    0.000000   \n75%               0.000000                    0.000000   \nmax              52.000000                   36.000000   \n\n       sub_account_overdue_no  sub_account_outstanding_loan  ...  \\\ncount           150000.000000                  1.500000e+05  ...   \nmean                 0.007293                  5.416077e+03  ...   \nstd                  0.111236                  1.617336e+05  ...   \nmin                  0.000000                 -5.746470e+05  ...   \n25%                  0.000000                  0.000000e+00  ...   \n50%                  0.000000                  0.000000e+00  ...   \n75%                  0.000000                  0.000000e+00  ...   \nmax                  7.000000                  3.603285e+07  ...   \n\n       outstanding_disburse_ratio  main_account_tenure  sub_account_tenure  \\\ncount                   150000.00         1.500000e+05        1.500000e+05   \nmean                          inf         5.169842e+04        2.773138e+03   \nstd                           NaN         2.614563e+06        1.043622e+05   \nmin                    -110000.33         0.000000e+00        0.000000e+00   \n25%                          1.00         0.000000e+00        0.000000e+00   \n50%                          1.00         0.000000e+00        0.000000e+00   \n75%                          1.26         2.500000e+01        0.000000e+00   \nmax                           inf         1.000000e+09        1.980000e+07   \n\n       disburse_to_sactioned_ratio  active_to_inactive_act_ratio  \\\ncount                 1.500000e+05                 150000.000000   \nmean                  6.506428e+02                      1.438740   \nstd                   1.312314e+05                      0.789844   \nmin                   0.000000e+00                      1.000000   \n25%                   1.000000e+00                      1.000000   \n50%                   1.000000e+00                      1.000000   \n75%                   1.000000e+00                      1.670000   \nmax                   5.000000e+07                     18.000000   \n\n       year_of_birth   Credit_level  employment_type            age  \\\ncount  150000.000000  150000.000000    150000.000000  150000.000000   \nmean     1984.867900       3.132360         0.487507      34.132100   \nstd         9.813379       5.268384         0.561527       9.813379   \nmin      1950.000000      -1.000000         0.000000      18.000000   \n25%      1978.000000      -1.000000         0.000000      26.000000   \n50%      1987.000000      -1.000000         0.000000      32.000000   \n75%      1993.000000       8.000000         1.000000      41.000000   \nmax      2001.000000      13.000000         2.000000      69.000000   \n\n        loan_default  \ncount  150000.000000  \nmean        0.176967  \nstd         0.381642  \nmin         0.000000  \n25%         0.000000  \n50%         0.000000  \n75%         0.000000  \nmax         1.000000  \n\n[8 rows x 51 columns]",
      "text/html": "<div>\n<style scoped>\n    .dataframe tbody tr th:only-of-type {\n        vertical-align: middle;\n    }\n\n    .dataframe tbody tr th {\n        vertical-align: top;\n    }\n\n    .dataframe thead th {\n        text-align: right;\n    }\n</style>\n<table border=\"1\" class=\"dataframe\">\n  <thead>\n    <tr style=\"text-align: right;\">\n      <th></th>\n      <th>main_account_loan_no</th>\n      <th>main_account_active_loan_no</th>\n      <th>main_account_overdue_no</th>\n      <th>main_account_outstanding_loan</th>\n      <th>main_account_sanction_loan</th>\n      <th>main_account_disbursed_loan</th>\n      <th>sub_account_loan_no</th>\n      <th>sub_account_active_loan_no</th>\n      <th>sub_account_overdue_no</th>\n      <th>sub_account_outstanding_loan</th>\n      <th>...</th>\n      <th>outstanding_disburse_ratio</th>\n      <th>main_account_tenure</th>\n      <th>sub_account_tenure</th>\n      <th>disburse_to_sactioned_ratio</th>\n      <th>active_to_inactive_act_ratio</th>\n      <th>year_of_birth</th>\n      <th>Credit_level</th>\n      <th>employment_type</th>\n      <th>age</th>\n      <th>loan_default</th>\n    </tr>\n  </thead>\n  <tbody>\n    <tr>\n      <th>count</th>\n      <td>150000.000000</td>\n      <td>150000.000000</td>\n      <td>150000.000000</td>\n      <td>1.500000e+05</td>\n      <td>1.500000e+05</td>\n      <td>1.500000e+05</td>\n      <td>150000.000000</td>\n      <td>150000.000000</td>\n      <td>150000.000000</td>\n      <td>1.500000e+05</td>\n      <td>...</td>\n      <td>150000.00</td>\n      <td>1.500000e+05</td>\n      <td>1.500000e+05</td>\n      <td>1.500000e+05</td>\n      <td>150000.000000</td>\n      <td>150000.000000</td>\n      <td>150000.000000</td>\n      <td>150000.000000</td>\n      <td>150000.000000</td>\n      <td>150000.000000</td>\n    </tr>\n    <tr>\n      <th>mean</th>\n      <td>2.447133</td>\n      <td>1.045500</td>\n      <td>0.153427</td>\n      <td>1.670825e+05</td>\n      <td>2.225586e+05</td>\n      <td>2.221730e+05</td>\n      <td>0.060133</td>\n      <td>0.027967</td>\n      <td>0.007293</td>\n      <td>5.416077e+03</td>\n      <td>...</td>\n      <td>inf</td>\n      <td>5.169842e+04</td>\n      <td>2.773138e+03</td>\n      <td>6.506428e+02</td>\n      <td>1.438740</td>\n      <td>1984.867900</td>\n      <td>3.132360</td>\n      <td>0.487507</td>\n      <td>34.132100</td>\n      <td>0.176967</td>\n    </tr>\n    <tr>\n      <th>std</th>\n      <td>5.197172</td>\n      <td>1.952708</td>\n      <td>0.542496</td>\n      <td>9.808619e+05</td>\n      <td>2.840313e+06</td>\n      <td>2.844075e+06</td>\n      <td>0.652912</td>\n      <td>0.325185</td>\n      <td>0.111236</td>\n      <td>1.617336e+05</td>\n      <td>...</td>\n      <td>NaN</td>\n      <td>2.614563e+06</td>\n      <td>1.043622e+05</td>\n      <td>1.312314e+05</td>\n      <td>0.789844</td>\n      <td>9.813379</td>\n      <td>5.268384</td>\n      <td>0.561527</td>\n      <td>9.813379</td>\n      <td>0.381642</td>\n    </tr>\n    <tr>\n      <th>min</th>\n      <td>0.000000</td>\n      <td>0.000000</td>\n      <td>0.000000</td>\n      <td>-6.678296e+06</td>\n      <td>0.000000e+00</td>\n      <td>0.000000e+00</td>\n      <td>0.000000</td>\n      <td>0.000000</td>\n      <td>0.000000</td>\n      <td>-5.746470e+05</td>\n      <td>...</td>\n      <td>-110000.33</td>\n      <td>0.000000e+00</td>\n      <td>0.000000e+00</td>\n      <td>0.000000e+00</td>\n      <td>1.000000</td>\n      <td>1950.000000</td>\n      <td>-1.000000</td>\n      <td>0.000000</td>\n      <td>18.000000</td>\n      <td>0.000000</td>\n    </tr>\n    <tr>\n      <th>25%</th>\n      <td>0.000000</td>\n      <td>0.000000</td>\n      <td>0.000000</td>\n      <td>0.000000e+00</td>\n      <td>0.000000e+00</td>\n      <td>0.000000e+00</td>\n      <td>0.000000</td>\n      <td>0.000000</td>\n      <td>0.000000</td>\n      <td>0.000000e+00</td>\n      <td>...</td>\n      <td>1.00</td>\n      <td>0.000000e+00</td>\n      <td>0.000000e+00</td>\n      <td>1.000000e+00</td>\n      <td>1.000000</td>\n      <td>1978.000000</td>\n      <td>-1.000000</td>\n      <td>0.000000</td>\n      <td>26.000000</td>\n      <td>0.000000</td>\n    </tr>\n    <tr>\n      <th>50%</th>\n      <td>1.000000</td>\n      <td>0.000000</td>\n      <td>0.000000</td>\n      <td>0.000000e+00</td>\n      <td>0.000000e+00</td>\n      <td>0.000000e+00</td>\n      <td>0.000000</td>\n      <td>0.000000</td>\n      <td>0.000000</td>\n      <td>0.000000e+00</td>\n      <td>...</td>\n      <td>1.00</td>\n      <td>0.000000e+00</td>\n      <td>0.000000e+00</td>\n      <td>1.000000e+00</td>\n      <td>1.000000</td>\n      <td>1987.000000</td>\n      <td>-1.000000</td>\n      <td>0.000000</td>\n      <td>32.000000</td>\n      <td>0.000000</td>\n    </tr>\n    <tr>\n      <th>75%</th>\n      <td>3.000000</td>\n      <td>1.000000</td>\n      <td>0.000000</td>\n      <td>3.545900e+04</td>\n      <td>6.360000e+04</td>\n      <td>6.150850e+04</td>\n      <td>0.000000</td>\n      <td>0.000000</td>\n      <td>0.000000</td>\n      <td>0.000000e+00</td>\n      <td>...</td>\n      <td>1.26</td>\n      <td>2.500000e+01</td>\n      <td>0.000000e+00</td>\n      <td>1.000000e+00</td>\n      <td>1.670000</td>\n      <td>1993.000000</td>\n      <td>8.000000</td>\n      <td>1.000000</td>\n      <td>41.000000</td>\n      <td>0.000000</td>\n    </tr>\n    <tr>\n      <th>max</th>\n      <td>354.000000</td>\n      <td>144.000000</td>\n      <td>23.000000</td>\n      <td>9.652492e+07</td>\n      <td>1.000000e+09</td>\n      <td>1.000000e+09</td>\n      <td>52.000000</td>\n      <td>36.000000</td>\n      <td>7.000000</td>\n      <td>3.603285e+07</td>\n      <td>...</td>\n      <td>inf</td>\n      <td>1.000000e+09</td>\n      <td>1.980000e+07</td>\n      <td>5.000000e+07</td>\n      <td>18.000000</td>\n      <td>2001.000000</td>\n      <td>13.000000</td>\n      <td>2.000000</td>\n      <td>69.000000</td>\n      <td>1.000000</td>\n    </tr>\n  </tbody>\n</table>\n<p>8 rows × 51 columns</p>\n</div>"
     },
     "execution_count": 30,
     "metadata": {},
     "output_type": "execute_result"
    }
   ],
   "source": [
    "data.describe()"
   ],
   "metadata": {
    "collapsed": false,
    "pycharm": {
     "name": "#%%\n"
    }
   }
  },
  {
   "cell_type": "code",
   "execution_count": 31,
   "outputs": [],
   "source": [
    "inf_names = []\n",
    "for name in data.columns:\n",
    "    if np.any(np.isinf(data[name])):\n",
    "        inf_names.append(name)"
   ],
   "metadata": {
    "collapsed": false,
    "pycharm": {
     "name": "#%%\n"
    }
   }
  },
  {
   "cell_type": "code",
   "execution_count": 32,
   "outputs": [],
   "source": [
    "for name in inf_names:\n",
    "    inf_ids = data[data[name]==np.inf].index\n",
    "    data = data.drop(inf_ids) # 这里删除包含Inf数据的行"
   ],
   "metadata": {
    "collapsed": false,
    "pycharm": {
     "name": "#%%\n"
    }
   }
  },
  {
   "cell_type": "code",
   "execution_count": 34,
   "outputs": [],
   "source": [
    "# 获取特征和目标\n",
    "x = data.iloc[:,:-1].astype(np.float64)\n",
    "y = data.iloc[:,-1]"
   ],
   "metadata": {
    "collapsed": false,
    "pycharm": {
     "name": "#%%\n"
    }
   }
  },
  {
   "cell_type": "code",
   "execution_count": 35,
   "outputs": [],
   "source": [
    "# 训练集测试集划分\n",
    "x_train,x_test,y_train,y_test = train_test_split(x,y,test_size=0.2,stratify=y,random_state=22)"
   ],
   "metadata": {
    "collapsed": false,
    "pycharm": {
     "name": "#%%\n"
    }
   }
  },
  {
   "cell_type": "code",
   "execution_count": 57,
   "outputs": [
    {
     "data": {
      "text/plain": "RandomForestClassifier(oob_score=True, random_state=22)"
     },
     "execution_count": 57,
     "metadata": {},
     "output_type": "execute_result"
    }
   ],
   "source": [
    "estimator = RandomForestClassifier(n_estimators=100,oob_score=True,random_state=22)\n",
    "estimator.fit(x_train,y_train)\n",
    "# joblib.dump(estimator,'model/model/random_forest.pth')"
   ],
   "metadata": {
    "collapsed": false,
    "pycharm": {
     "name": "#%%\n"
    }
   }
  },
  {
   "cell_type": "code",
   "execution_count": 58,
   "outputs": [],
   "source": [
    "from sklearn.metrics import classification_report\n",
    "y_pred= estimator.predict(x_test)"
   ],
   "metadata": {
    "collapsed": false,
    "pycharm": {
     "name": "#%%\n"
    }
   }
  },
  {
   "cell_type": "code",
   "execution_count": 59,
   "outputs": [
    {
     "data": {
      "text/plain": "0.8208880592039469"
     },
     "execution_count": 59,
     "metadata": {},
     "output_type": "execute_result"
    }
   ],
   "source": [
    "estimator.score(x_test,y_test)"
   ],
   "metadata": {
    "collapsed": false,
    "pycharm": {
     "name": "#%%\n"
    }
   }
  },
  {
   "cell_type": "code",
   "execution_count": 63,
   "outputs": [
    {
     "data": {
      "text/plain": "0.8201100091674306"
     },
     "execution_count": 63,
     "metadata": {},
     "output_type": "execute_result"
    }
   ],
   "source": [
    "estimator.oob_score_"
   ],
   "metadata": {
    "collapsed": false,
    "pycharm": {
     "name": "#%%\n"
    }
   }
  },
  {
   "cell_type": "code",
   "execution_count": 61,
   "outputs": [
    {
     "name": "stdout",
     "output_type": "stream",
     "text": [
      "              precision    recall  f1-score   support\n",
      "\n",
      "           0       0.82      0.99      0.90     24689\n",
      "           1       0.38      0.02      0.04      5309\n",
      "\n",
      "    accuracy                           0.82     29998\n",
      "   macro avg       0.60      0.51      0.47     29998\n",
      "weighted avg       0.75      0.82      0.75     29998\n",
      "\n"
     ]
    }
   ],
   "source": [
    "print(classification_report(y_test,y_pred))"
   ],
   "metadata": {
    "collapsed": false,
    "pycharm": {
     "name": "#%%\n"
    }
   }
  },
  {
   "cell_type": "markdown",
   "source": [
    "## 红酒分类"
   ],
   "metadata": {
    "collapsed": false,
    "pycharm": {
     "name": "#%% md\n"
    }
   }
  },
  {
   "cell_type": "code",
   "execution_count": 64,
   "outputs": [],
   "source": [
    "import joblib\n",
    "import numpy as np\n",
    "import xgboost as xgb\n",
    "import pandas as pd\n",
    "import numpy as np\n",
    "from collections import Counter\n",
    "from sklearn.model_selection import train_test_split\n",
    "from sklearn.metrics import classification_report\n",
    "from sklearn.model_selection import StratifiedKFold"
   ],
   "metadata": {
    "collapsed": false,
    "pycharm": {
     "name": "#%%\n"
    }
   }
  },
  {
   "cell_type": "code",
   "execution_count": 68,
   "outputs": [],
   "source": [
    "data = pd.read_csv('data/红酒品质分类.csv')"
   ],
   "metadata": {
    "collapsed": false,
    "pycharm": {
     "name": "#%%\n"
    }
   }
  },
  {
   "cell_type": "code",
   "execution_count": 69,
   "outputs": [
    {
     "data": {
      "text/plain": "   fixed acidity  volatile acidity  citric acid  residual sugar  chlorides  \\\n0            7.4              0.70         0.00             1.9      0.076   \n1            7.8              0.88         0.00             2.6      0.098   \n2            7.8              0.76         0.04             2.3      0.092   \n3           11.2              0.28         0.56             1.9      0.075   \n4            7.4              0.70         0.00             1.9      0.076   \n\n   free sulfur dioxide  total sulfur dioxide  density    pH  sulphates  \\\n0                 11.0                  34.0   0.9978  3.51       0.56   \n1                 25.0                  67.0   0.9968  3.20       0.68   \n2                 15.0                  54.0   0.9970  3.26       0.65   \n3                 17.0                  60.0   0.9980  3.16       0.58   \n4                 11.0                  34.0   0.9978  3.51       0.56   \n\n   alcohol  quality  \n0      9.4        5  \n1      9.8        5  \n2      9.8        5  \n3      9.8        6  \n4      9.4        5  ",
      "text/html": "<div>\n<style scoped>\n    .dataframe tbody tr th:only-of-type {\n        vertical-align: middle;\n    }\n\n    .dataframe tbody tr th {\n        vertical-align: top;\n    }\n\n    .dataframe thead th {\n        text-align: right;\n    }\n</style>\n<table border=\"1\" class=\"dataframe\">\n  <thead>\n    <tr style=\"text-align: right;\">\n      <th></th>\n      <th>fixed acidity</th>\n      <th>volatile acidity</th>\n      <th>citric acid</th>\n      <th>residual sugar</th>\n      <th>chlorides</th>\n      <th>free sulfur dioxide</th>\n      <th>total sulfur dioxide</th>\n      <th>density</th>\n      <th>pH</th>\n      <th>sulphates</th>\n      <th>alcohol</th>\n      <th>quality</th>\n    </tr>\n  </thead>\n  <tbody>\n    <tr>\n      <th>0</th>\n      <td>7.4</td>\n      <td>0.70</td>\n      <td>0.00</td>\n      <td>1.9</td>\n      <td>0.076</td>\n      <td>11.0</td>\n      <td>34.0</td>\n      <td>0.9978</td>\n      <td>3.51</td>\n      <td>0.56</td>\n      <td>9.4</td>\n      <td>5</td>\n    </tr>\n    <tr>\n      <th>1</th>\n      <td>7.8</td>\n      <td>0.88</td>\n      <td>0.00</td>\n      <td>2.6</td>\n      <td>0.098</td>\n      <td>25.0</td>\n      <td>67.0</td>\n      <td>0.9968</td>\n      <td>3.20</td>\n      <td>0.68</td>\n      <td>9.8</td>\n      <td>5</td>\n    </tr>\n    <tr>\n      <th>2</th>\n      <td>7.8</td>\n      <td>0.76</td>\n      <td>0.04</td>\n      <td>2.3</td>\n      <td>0.092</td>\n      <td>15.0</td>\n      <td>54.0</td>\n      <td>0.9970</td>\n      <td>3.26</td>\n      <td>0.65</td>\n      <td>9.8</td>\n      <td>5</td>\n    </tr>\n    <tr>\n      <th>3</th>\n      <td>11.2</td>\n      <td>0.28</td>\n      <td>0.56</td>\n      <td>1.9</td>\n      <td>0.075</td>\n      <td>17.0</td>\n      <td>60.0</td>\n      <td>0.9980</td>\n      <td>3.16</td>\n      <td>0.58</td>\n      <td>9.8</td>\n      <td>6</td>\n    </tr>\n    <tr>\n      <th>4</th>\n      <td>7.4</td>\n      <td>0.70</td>\n      <td>0.00</td>\n      <td>1.9</td>\n      <td>0.076</td>\n      <td>11.0</td>\n      <td>34.0</td>\n      <td>0.9978</td>\n      <td>3.51</td>\n      <td>0.56</td>\n      <td>9.4</td>\n      <td>5</td>\n    </tr>\n  </tbody>\n</table>\n</div>"
     },
     "execution_count": 69,
     "metadata": {},
     "output_type": "execute_result"
    }
   ],
   "source": [
    "data.head()"
   ],
   "metadata": {
    "collapsed": false,
    "pycharm": {
     "name": "#%%\n"
    }
   }
  },
  {
   "cell_type": "code",
   "execution_count": 70,
   "outputs": [
    {
     "data": {
      "text/plain": "5    681\n6    638\n7    199\n4     53\n8     18\n3     10\nName: quality, dtype: int64"
     },
     "execution_count": 70,
     "metadata": {},
     "output_type": "execute_result"
    }
   ],
   "source": [
    "data['quality'].value_counts()"
   ],
   "metadata": {
    "collapsed": false,
    "pycharm": {
     "name": "#%%\n"
    }
   }
  },
  {
   "cell_type": "code",
   "execution_count": 71,
   "outputs": [],
   "source": [
    "x = data.iloc[:, :-1]\n",
    "y = data.iloc[:, -1] - 3 # 从3开始的类别， 处理成从0开始\n",
    "\n",
    "# 2. 数据集分割\n",
    "x_train, x_valid, y_train, y_valid = train_test_split(x, y, test_size=0.2, stratify=y, random_state=22)\n",
    "\n",
    "# 3. 存储数据\n",
    "pd.concat([x_train, y_train], axis=1).to_csv('data/红酒品质分类-train.csv')\n",
    "pd.concat([x_valid, y_valid], axis=1).to_csv('data/红酒品质分类-valid.csv')"
   ],
   "metadata": {
    "collapsed": false,
    "pycharm": {
     "name": "#%%\n"
    }
   }
  },
  {
   "cell_type": "markdown",
   "source": [
    "## 训练xgboost模型"
   ],
   "metadata": {
    "collapsed": false,
    "pycharm": {
     "name": "#%% md\n"
    }
   }
  },
  {
   "cell_type": "code",
   "execution_count": 72,
   "outputs": [
    {
     "data": {
      "text/plain": "XGBClassifier(base_score=0.5, booster='gbtree', colsample_bylevel=1,\n              colsample_bynode=1, colsample_bytree=1, enable_categorical=False,\n              eta=0.1, eval_metric='merror', gamma=0, gpu_id=-1,\n              importance_type=None, interaction_constraints='',\n              learning_rate=0.100000001, max_delta_step=0, max_depth=6,\n              min_child_weight=1, missing=nan, monotone_constraints='()',\n              n_estimators=100, n_jobs=4, num_parallel_tree=1,\n              objective='multi:softprob', predictor='auto', random_state=22,\n              reg_alpha=0, reg_lambda=1, scale_pos_weight=None, subsample=1,\n              tree_method='exact', use_label_encoder=False, ...)"
     },
     "execution_count": 72,
     "metadata": {},
     "output_type": "execute_result"
    }
   ],
   "source": [
    "train_data = pd.read_csv('data/红酒品质分类-train.csv')\n",
    "valid_data = pd.read_csv('data/红酒品质分类-valid.csv')\n",
    "\n",
    "# 训练集\n",
    "x_train = train_data.iloc[:, :-1]\n",
    "y_train = train_data.iloc[:, -1]\n",
    "\n",
    "# 测试集\n",
    "x_valid = valid_data.iloc[:, :-1]\n",
    "y_valid = valid_data.iloc[:, -1]\n",
    "estimator = xgb.XGBClassifier(n_estimators = 100,objective='multi:softmax',\n",
    "                              eval_metric='merror',eta=0.1,use_label_encoder=False,random_state = 22)\n",
    "estimator.fit(x_train,y_train)"
   ],
   "metadata": {
    "collapsed": false,
    "pycharm": {
     "name": "#%%\n"
    }
   }
  },
  {
   "cell_type": "code",
   "execution_count": 74,
   "outputs": [
    {
     "name": "stdout",
     "output_type": "stream",
     "text": [
      "              precision    recall  f1-score   support\n",
      "\n",
      "           0       0.00      0.00      0.00         2\n",
      "           1       0.00      0.00      0.00        11\n",
      "           2       0.71      0.84      0.77       136\n",
      "           3       0.63      0.61      0.62       128\n",
      "           4       0.67      0.50      0.57        40\n",
      "           5       0.33      0.33      0.33         3\n",
      "\n",
      "    accuracy                           0.67       320\n",
      "   macro avg       0.39      0.38      0.38       320\n",
      "weighted avg       0.64      0.67      0.65       320\n",
      "\n"
     ]
    },
    {
     "name": "stderr",
     "output_type": "stream",
     "text": [
      "/root/anaconda3/lib/python3.8/site-packages/sklearn/metrics/_classification.py:1221: UndefinedMetricWarning: Precision and F-score are ill-defined and being set to 0.0 in labels with no predicted samples. Use `zero_division` parameter to control this behavior.\n",
      "  _warn_prf(average, modifier, msg_start, len(result))\n"
     ]
    }
   ],
   "source": [
    "y_pred = estimator.predict(x_valid)\n",
    "print(classification_report(y_valid,y_pred))"
   ],
   "metadata": {
    "collapsed": false,
    "pycharm": {
     "name": "#%%\n"
    }
   }
  },
  {
   "cell_type": "code",
   "execution_count": 75,
   "outputs": [
    {
     "name": "stdout",
     "output_type": "stream",
     "text": [
      "              precision    recall  f1-score   support\n",
      "\n",
      "           0       0.00      0.00      0.00         2\n",
      "           1       0.29      0.18      0.22        11\n",
      "           2       0.72      0.84      0.77       136\n",
      "           3       0.69      0.58      0.63       128\n",
      "           4       0.55      0.57      0.56        40\n",
      "           5       0.20      0.33      0.25         3\n",
      "\n",
      "    accuracy                           0.67       320\n",
      "   macro avg       0.41      0.42      0.41       320\n",
      "weighted avg       0.66      0.67      0.66       320\n",
      "\n"
     ]
    },
    {
     "name": "stderr",
     "output_type": "stream",
     "text": [
      "/root/anaconda3/lib/python3.8/site-packages/sklearn/metrics/_classification.py:1221: UndefinedMetricWarning: Precision and F-score are ill-defined and being set to 0.0 in labels with no predicted samples. Use `zero_division` parameter to control this behavior.\n",
      "  _warn_prf(average, modifier, msg_start, len(result))\n"
     ]
    }
   ],
   "source": [
    "from sklearn.utils import class_weight\n",
    "class_weights = class_weight.compute_sample_weight(class_weight='balanced',y=y_train)\n",
    "estimator.fit(x_train,y_train,sample_weight=class_weights)\n",
    "y_pred = estimator.predict(x_valid)\n",
    "print(classification_report(y_valid,y_pred))"
   ],
   "metadata": {
    "collapsed": false,
    "pycharm": {
     "name": "#%%\n"
    }
   }
  },
  {
   "cell_type": "code",
   "execution_count": 80,
   "outputs": [
    {
     "data": {
      "text/plain": "GridSearchCV(cv=StratifiedKFold(n_splits=5, random_state=None, shuffle=True),\n             estimator=XGBClassifier(base_score=None, booster=None,\n                                     colsample_bylevel=None,\n                                     colsample_bynode=None,\n                                     colsample_bytree=None,\n                                     enable_categorical=False, eta=0.1,\n                                     eval_metric='merror', gamma=None,\n                                     gpu_id=None, importance_type=None,\n                                     interaction_constraints=None,\n                                     learning_rate=None, max_delta...\n                                     missing=nan, monotone_constraints=None,\n                                     n_estimators=100, n_jobs=None,\n                                     num_parallel_tree=None,\n                                     objective='multi:softmax', predictor=None,\n                                     random_state=22, reg_alpha=None,\n                                     reg_lambda=None, scale_pos_weight=None,\n                                     subsample=None, tree_method=None,\n                                     use_label_encoder=False, ...),\n             param_grid={'eta': array([0.1, 0.4, 0.7]),\n                         'max_depth': array([3, 4]),\n                         'n_estimators': array([ 50, 100])})"
     },
     "execution_count": 80,
     "metadata": {},
     "output_type": "execute_result"
    }
   ],
   "source": [
    "spliter = StratifiedKFold(n_splits=5,shuffle=True)\n",
    "param_grid = {'max_depth': np.arange(3, 5, 1),\n",
    "              'n_estimators': np.arange(50, 150, 50),\n",
    "              'eta': np.arange(0.1, 1, 0.3)}\n",
    "estimator = xgb.XGBClassifier(n_estimators = 100,objective='multi:softmax',\n",
    "                              eval_metric='merror',eta=0.1,use_label_encoder=False,random_state = 22)\n",
    "cv = GridSearchCV(estimator,param_grid=param_grid,cv=spliter)\n",
    "cv.fit(x_train,y_train,sample_weight=class_weights)"
   ],
   "metadata": {
    "collapsed": false,
    "pycharm": {
     "name": "#%%\n"
    }
   }
  },
  {
   "cell_type": "code",
   "execution_count": 81,
   "outputs": [
    {
     "data": {
      "text/plain": "{'eta': 0.7000000000000001, 'max_depth': 4, 'n_estimators': 100}"
     },
     "execution_count": 81,
     "metadata": {},
     "output_type": "execute_result"
    }
   ],
   "source": [
    "cv.best_params_"
   ],
   "metadata": {
    "collapsed": false,
    "pycharm": {
     "name": "#%%\n"
    }
   }
  },
  {
   "cell_type": "code",
   "execution_count": 82,
   "outputs": [],
   "source": [
    "y_pred = cv.predict(x_valid)"
   ],
   "metadata": {
    "collapsed": false,
    "pycharm": {
     "name": "#%%\n"
    }
   }
  },
  {
   "cell_type": "code",
   "execution_count": 87,
   "outputs": [
    {
     "name": "stdout",
     "output_type": "stream",
     "text": [
      "              precision    recall  f1-score   support\n",
      "\n",
      "           0       0.00      0.00      0.00         2\n",
      "           1       0.33      0.09      0.14        11\n",
      "           2       0.71      0.82      0.76       136\n",
      "           3       0.66      0.63      0.65       128\n",
      "           4       0.66      0.57      0.61        40\n",
      "           5       0.25      0.33      0.29         3\n",
      "\n",
      "    accuracy                           0.68       320\n",
      "   macro avg       0.44      0.41      0.41       320\n",
      "weighted avg       0.66      0.68      0.67       320\n",
      "\n"
     ]
    }
   ],
   "source": [
    "print(classification_report(y_valid,y_pred))"
   ],
   "metadata": {
    "collapsed": false,
    "pycharm": {
     "name": "#%%\n"
    }
   }
  }
 ],
 "metadata": {
  "kernelspec": {
   "display_name": "Python 3",
   "language": "python",
   "name": "python3"
  },
  "language_info": {
   "codemirror_mode": {
    "name": "ipython",
    "version": 3
   },
   "file_extension": ".py",
   "mimetype": "text/x-python",
   "name": "python",
   "nbconvert_exporter": "python",
   "pygments_lexer": "ipython3",
   "version": "3.8.5"
  }
 },
 "nbformat": 4,
 "nbformat_minor": 1
}