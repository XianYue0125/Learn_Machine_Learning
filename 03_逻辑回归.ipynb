{
 "cells": [
  {
   "cell_type": "markdown",
   "metadata": {
    "collapsed": true,
    "pycharm": {
     "name": "#%% md\n"
    }
   },
   "source": [
    "## 肿瘤预测案例"
   ],
   "outputs": []
  },
  {
   "cell_type": "code",
   "execution_count": 1,
   "outputs": [],
   "source": [
    "import pandas as pd\n",
    "import numpy as np\n",
    "from sklearn.model_selection import train_test_split\n",
    "from sklearn.preprocessing import StandardScaler\n",
    "from sklearn.linear_model import LogisticRegression"
   ],
   "metadata": {
    "collapsed": false,
    "pycharm": {
     "name": "#%%\n"
    }
   }
  },
  {
   "cell_type": "code",
   "execution_count": 2,
   "outputs": [
    {
     "data": {
      "text/plain": "   Sample code number  Clump Thickness  Uniformity of Cell Size  \\\n0             1000025                5                        1   \n1             1002945                5                        4   \n2             1015425                3                        1   \n3             1016277                6                        8   \n4             1017023                4                        1   \n\n   Uniformity of Cell Shape  Marginal Adhesion  Single Epithelial Cell Size  \\\n0                         1                  1                            2   \n1                         4                  5                            7   \n2                         1                  1                            2   \n3                         8                  1                            3   \n4                         1                  3                            2   \n\n  Bare Nuclei  Bland Chromatin  Normal Nucleoli  Mitoses  Class  \n0           1                3                1        1      2  \n1          10                3                2        1      2  \n2           2                3                1        1      2  \n3           4                3                7        1      2  \n4           1                3                1        1      2  ",
      "text/html": "<div>\n<style scoped>\n    .dataframe tbody tr th:only-of-type {\n        vertical-align: middle;\n    }\n\n    .dataframe tbody tr th {\n        vertical-align: top;\n    }\n\n    .dataframe thead th {\n        text-align: right;\n    }\n</style>\n<table border=\"1\" class=\"dataframe\">\n  <thead>\n    <tr style=\"text-align: right;\">\n      <th></th>\n      <th>Sample code number</th>\n      <th>Clump Thickness</th>\n      <th>Uniformity of Cell Size</th>\n      <th>Uniformity of Cell Shape</th>\n      <th>Marginal Adhesion</th>\n      <th>Single Epithelial Cell Size</th>\n      <th>Bare Nuclei</th>\n      <th>Bland Chromatin</th>\n      <th>Normal Nucleoli</th>\n      <th>Mitoses</th>\n      <th>Class</th>\n    </tr>\n  </thead>\n  <tbody>\n    <tr>\n      <th>0</th>\n      <td>1000025</td>\n      <td>5</td>\n      <td>1</td>\n      <td>1</td>\n      <td>1</td>\n      <td>2</td>\n      <td>1</td>\n      <td>3</td>\n      <td>1</td>\n      <td>1</td>\n      <td>2</td>\n    </tr>\n    <tr>\n      <th>1</th>\n      <td>1002945</td>\n      <td>5</td>\n      <td>4</td>\n      <td>4</td>\n      <td>5</td>\n      <td>7</td>\n      <td>10</td>\n      <td>3</td>\n      <td>2</td>\n      <td>1</td>\n      <td>2</td>\n    </tr>\n    <tr>\n      <th>2</th>\n      <td>1015425</td>\n      <td>3</td>\n      <td>1</td>\n      <td>1</td>\n      <td>1</td>\n      <td>2</td>\n      <td>2</td>\n      <td>3</td>\n      <td>1</td>\n      <td>1</td>\n      <td>2</td>\n    </tr>\n    <tr>\n      <th>3</th>\n      <td>1016277</td>\n      <td>6</td>\n      <td>8</td>\n      <td>8</td>\n      <td>1</td>\n      <td>3</td>\n      <td>4</td>\n      <td>3</td>\n      <td>7</td>\n      <td>1</td>\n      <td>2</td>\n    </tr>\n    <tr>\n      <th>4</th>\n      <td>1017023</td>\n      <td>4</td>\n      <td>1</td>\n      <td>1</td>\n      <td>3</td>\n      <td>2</td>\n      <td>1</td>\n      <td>3</td>\n      <td>1</td>\n      <td>1</td>\n      <td>2</td>\n    </tr>\n  </tbody>\n</table>\n</div>"
     },
     "execution_count": 2,
     "metadata": {},
     "output_type": "execute_result"
    }
   ],
   "source": [
    "# 1.获取数据\n",
    "names = ['Sample code number', 'Clump Thickness', 'Uniformity of Cell Size', 'Uniformity of Cell Shape','Marginal Adhesion', 'Single Epithelial Cell Size', 'Bare Nuclei', 'Bland Chromatin', 'Normal Nucleoli', 'Mitoses', 'Class']\n",
    "\n",
    "data = pd.read_csv(\"https://archive.ics.uci.edu/ml/machine-learning-databases/breast-cancer-wisconsin/breast-cancer-wisconsin.data\",names=names)\n",
    "data.head()"
   ],
   "metadata": {
    "collapsed": false,
    "pycharm": {
     "name": "#%%\n"
    }
   }
  },
  {
   "cell_type": "code",
   "execution_count": 3,
   "outputs": [
    {
     "name": "stdout",
     "output_type": "stream",
     "text": [
      "<class 'pandas.core.frame.DataFrame'>\n",
      "RangeIndex: 699 entries, 0 to 698\n",
      "Data columns (total 11 columns):\n",
      " #   Column                       Non-Null Count  Dtype \n",
      "---  ------                       --------------  ----- \n",
      " 0   Sample code number           699 non-null    int64 \n",
      " 1   Clump Thickness              699 non-null    int64 \n",
      " 2   Uniformity of Cell Size      699 non-null    int64 \n",
      " 3   Uniformity of Cell Shape     699 non-null    int64 \n",
      " 4   Marginal Adhesion            699 non-null    int64 \n",
      " 5   Single Epithelial Cell Size  699 non-null    int64 \n",
      " 6   Bare Nuclei                  699 non-null    object\n",
      " 7   Bland Chromatin              699 non-null    int64 \n",
      " 8   Normal Nucleoli              699 non-null    int64 \n",
      " 9   Mitoses                      699 non-null    int64 \n",
      " 10  Class                        699 non-null    int64 \n",
      "dtypes: int64(10), object(1)\n",
      "memory usage: 60.2+ KB\n"
     ]
    }
   ],
   "source": [
    "data.info()"
   ],
   "metadata": {
    "collapsed": false,
    "pycharm": {
     "name": "#%%\n"
    }
   }
  },
  {
   "cell_type": "code",
   "execution_count": 4,
   "outputs": [
    {
     "data": {
      "text/plain": "array(['1', '10', '2', '4', '3', '9', '7', '?', '5', '8', '6'],\n      dtype=object)"
     },
     "execution_count": 4,
     "metadata": {},
     "output_type": "execute_result"
    }
   ],
   "source": [
    "data['Bare Nuclei'].unique()"
   ],
   "metadata": {
    "collapsed": false,
    "pycharm": {
     "name": "#%%\n"
    }
   }
  },
  {
   "cell_type": "code",
   "execution_count": 5,
   "outputs": [],
   "source": [
    "# 数据处理\n",
    "data = pd.read_csv(\"https://archive.ics.uci.edu/ml/machine-learning-databases/breast-cancer-wisconsin/breast-cancer-wisconsin.data\",names=names,na_values='?')"
   ],
   "metadata": {
    "collapsed": false,
    "pycharm": {
     "name": "#%%\n"
    }
   }
  },
  {
   "cell_type": "code",
   "execution_count": 6,
   "outputs": [
    {
     "name": "stdout",
     "output_type": "stream",
     "text": [
      "<class 'pandas.core.frame.DataFrame'>\n",
      "RangeIndex: 699 entries, 0 to 698\n",
      "Data columns (total 11 columns):\n",
      " #   Column                       Non-Null Count  Dtype  \n",
      "---  ------                       --------------  -----  \n",
      " 0   Sample code number           699 non-null    int64  \n",
      " 1   Clump Thickness              699 non-null    int64  \n",
      " 2   Uniformity of Cell Size      699 non-null    int64  \n",
      " 3   Uniformity of Cell Shape     699 non-null    int64  \n",
      " 4   Marginal Adhesion            699 non-null    int64  \n",
      " 5   Single Epithelial Cell Size  699 non-null    int64  \n",
      " 6   Bare Nuclei                  683 non-null    float64\n",
      " 7   Bland Chromatin              699 non-null    int64  \n",
      " 8   Normal Nucleoli              699 non-null    int64  \n",
      " 9   Mitoses                      699 non-null    int64  \n",
      " 10  Class                        699 non-null    int64  \n",
      "dtypes: float64(1), int64(10)\n",
      "memory usage: 60.2 KB\n"
     ]
    }
   ],
   "source": [
    "data.info()"
   ],
   "metadata": {
    "collapsed": false,
    "pycharm": {
     "name": "#%%\n"
    }
   }
  },
  {
   "cell_type": "code",
   "execution_count": 7,
   "outputs": [],
   "source": [
    "data.dropna(inplace = True)"
   ],
   "metadata": {
    "collapsed": false,
    "pycharm": {
     "name": "#%%\n"
    }
   }
  },
  {
   "cell_type": "code",
   "execution_count": 8,
   "outputs": [
    {
     "name": "stdout",
     "output_type": "stream",
     "text": [
      "<class 'pandas.core.frame.DataFrame'>\n",
      "Int64Index: 683 entries, 0 to 698\n",
      "Data columns (total 11 columns):\n",
      " #   Column                       Non-Null Count  Dtype  \n",
      "---  ------                       --------------  -----  \n",
      " 0   Sample code number           683 non-null    int64  \n",
      " 1   Clump Thickness              683 non-null    int64  \n",
      " 2   Uniformity of Cell Size      683 non-null    int64  \n",
      " 3   Uniformity of Cell Shape     683 non-null    int64  \n",
      " 4   Marginal Adhesion            683 non-null    int64  \n",
      " 5   Single Epithelial Cell Size  683 non-null    int64  \n",
      " 6   Bare Nuclei                  683 non-null    float64\n",
      " 7   Bland Chromatin              683 non-null    int64  \n",
      " 8   Normal Nucleoli              683 non-null    int64  \n",
      " 9   Mitoses                      683 non-null    int64  \n",
      " 10  Class                        683 non-null    int64  \n",
      "dtypes: float64(1), int64(10)\n",
      "memory usage: 84.0 KB\n"
     ]
    }
   ],
   "source": [
    "data.info()"
   ],
   "metadata": {
    "collapsed": false,
    "pycharm": {
     "name": "#%%\n"
    }
   }
  },
  {
   "cell_type": "code",
   "execution_count": 13,
   "outputs": [
    {
     "data": {
      "text/plain": "0.9766081871345029"
     },
     "execution_count": 13,
     "metadata": {},
     "output_type": "execute_result"
    }
   ],
   "source": [
    "# 确定特征值目标值\n",
    "x = data.iloc[:,1:10]\n",
    "y =data['Class']\n",
    "# 训练集测试集划分\n",
    "x_train,x_test,y_train,y_test = train_test_split(x,y,random_state=22)\n",
    "#特征工程 标准化\n",
    "transfer = StandardScaler()\n",
    "x_train = transfer.fit_transform(x_train)\n",
    "x_test = transfer.transform(x_test)\n",
    "# 创建逻辑回归模型\n",
    "estimator = LogisticRegression()\n",
    "#模型训练\n",
    "estimator.fit(x_train,y_train)\n",
    "#模型评估\n",
    "estimator.score(x_test,y_test)"
   ],
   "metadata": {
    "collapsed": false,
    "pycharm": {
     "name": "#%%\n"
    }
   }
  },
  {
   "cell_type": "markdown",
   "source": [
    "## 电信流失用户预测"
   ],
   "metadata": {
    "collapsed": false,
    "pycharm": {
     "name": "#%% md\n"
    }
   }
  },
  {
   "cell_type": "code",
   "execution_count": 15,
   "outputs": [
    {
     "name": "stdout",
     "output_type": "stream",
     "text": [
      "<class 'pandas.core.frame.DataFrame'>\n",
      "RangeIndex: 7043 entries, 0 to 7042\n",
      "Data columns (total 16 columns):\n",
      " #   Column             Non-Null Count  Dtype  \n",
      "---  ------             --------------  -----  \n",
      " 0   Churn              7043 non-null   object \n",
      " 1   gender             7043 non-null   object \n",
      " 2   Partner_att        7043 non-null   int64  \n",
      " 3   Dependents_att     7043 non-null   int64  \n",
      " 4   landline           7043 non-null   int64  \n",
      " 5   internet_att       7043 non-null   int64  \n",
      " 6   internet_other     7043 non-null   int64  \n",
      " 7   StreamingTV        7043 non-null   int64  \n",
      " 8   StreamingMovies    7043 non-null   int64  \n",
      " 9   Contract_Month     7043 non-null   int64  \n",
      " 10  Contract_1YR       7043 non-null   int64  \n",
      " 11  PaymentBank        7043 non-null   int64  \n",
      " 12  PaymentCreditcard  7043 non-null   int64  \n",
      " 13  PaymentElectronic  7043 non-null   int64  \n",
      " 14  MonthlyCharges     7043 non-null   float64\n",
      " 15  TotalCharges       7043 non-null   float64\n",
      "dtypes: float64(2), int64(12), object(2)\n",
      "memory usage: 880.5+ KB\n"
     ]
    }
   ],
   "source": [
    "import pandas as pd\n",
    "import seaborn as sns\n",
    "import matplotlib.pyplot as plt\n",
    "%matplotlib inline\n",
    "churn=pd.read_csv('data/churn.csv')\n",
    "churn.info()"
   ],
   "metadata": {
    "collapsed": false,
    "pycharm": {
     "name": "#%%\n"
    }
   }
  },
  {
   "cell_type": "code",
   "execution_count": 16,
   "outputs": [
    {
     "data": {
      "text/plain": "  Churn  gender  Partner_att  Dependents_att  landline  internet_att  \\\n0    No  Female            1               0         0             1   \n1    No    Male            0               0         1             1   \n2   Yes    Male            0               0         1             1   \n3    No    Male            0               0         0             1   \n4   Yes  Female            0               0         1             0   \n\n   internet_other  StreamingTV  StreamingMovies  Contract_Month  Contract_1YR  \\\n0               0            0                0               1             0   \n1               0            0                0               0             1   \n2               0            0                0               1             0   \n3               0            0                0               0             1   \n4               1            0                0               1             0   \n\n   PaymentBank  PaymentCreditcard  PaymentElectronic  MonthlyCharges  \\\n0            0                  0                  1           29.85   \n1            0                  0                  0           56.95   \n2            0                  0                  0           53.85   \n3            1                  0                  0           42.30   \n4            0                  0                  1           70.70   \n\n   TotalCharges  \n0         29.85  \n1       1889.50  \n2        108.15  \n3       1840.75  \n4        151.65  ",
      "text/html": "<div>\n<style scoped>\n    .dataframe tbody tr th:only-of-type {\n        vertical-align: middle;\n    }\n\n    .dataframe tbody tr th {\n        vertical-align: top;\n    }\n\n    .dataframe thead th {\n        text-align: right;\n    }\n</style>\n<table border=\"1\" class=\"dataframe\">\n  <thead>\n    <tr style=\"text-align: right;\">\n      <th></th>\n      <th>Churn</th>\n      <th>gender</th>\n      <th>Partner_att</th>\n      <th>Dependents_att</th>\n      <th>landline</th>\n      <th>internet_att</th>\n      <th>internet_other</th>\n      <th>StreamingTV</th>\n      <th>StreamingMovies</th>\n      <th>Contract_Month</th>\n      <th>Contract_1YR</th>\n      <th>PaymentBank</th>\n      <th>PaymentCreditcard</th>\n      <th>PaymentElectronic</th>\n      <th>MonthlyCharges</th>\n      <th>TotalCharges</th>\n    </tr>\n  </thead>\n  <tbody>\n    <tr>\n      <th>0</th>\n      <td>No</td>\n      <td>Female</td>\n      <td>1</td>\n      <td>0</td>\n      <td>0</td>\n      <td>1</td>\n      <td>0</td>\n      <td>0</td>\n      <td>0</td>\n      <td>1</td>\n      <td>0</td>\n      <td>0</td>\n      <td>0</td>\n      <td>1</td>\n      <td>29.85</td>\n      <td>29.85</td>\n    </tr>\n    <tr>\n      <th>1</th>\n      <td>No</td>\n      <td>Male</td>\n      <td>0</td>\n      <td>0</td>\n      <td>1</td>\n      <td>1</td>\n      <td>0</td>\n      <td>0</td>\n      <td>0</td>\n      <td>0</td>\n      <td>1</td>\n      <td>0</td>\n      <td>0</td>\n      <td>0</td>\n      <td>56.95</td>\n      <td>1889.50</td>\n    </tr>\n    <tr>\n      <th>2</th>\n      <td>Yes</td>\n      <td>Male</td>\n      <td>0</td>\n      <td>0</td>\n      <td>1</td>\n      <td>1</td>\n      <td>0</td>\n      <td>0</td>\n      <td>0</td>\n      <td>1</td>\n      <td>0</td>\n      <td>0</td>\n      <td>0</td>\n      <td>0</td>\n      <td>53.85</td>\n      <td>108.15</td>\n    </tr>\n    <tr>\n      <th>3</th>\n      <td>No</td>\n      <td>Male</td>\n      <td>0</td>\n      <td>0</td>\n      <td>0</td>\n      <td>1</td>\n      <td>0</td>\n      <td>0</td>\n      <td>0</td>\n      <td>0</td>\n      <td>1</td>\n      <td>1</td>\n      <td>0</td>\n      <td>0</td>\n      <td>42.30</td>\n      <td>1840.75</td>\n    </tr>\n    <tr>\n      <th>4</th>\n      <td>Yes</td>\n      <td>Female</td>\n      <td>0</td>\n      <td>0</td>\n      <td>1</td>\n      <td>0</td>\n      <td>1</td>\n      <td>0</td>\n      <td>0</td>\n      <td>1</td>\n      <td>0</td>\n      <td>0</td>\n      <td>0</td>\n      <td>1</td>\n      <td>70.70</td>\n      <td>151.65</td>\n    </tr>\n  </tbody>\n</table>\n</div>"
     },
     "execution_count": 16,
     "metadata": {},
     "output_type": "execute_result"
    }
   ],
   "source": [
    "churn.head()"
   ],
   "metadata": {
    "collapsed": false,
    "pycharm": {
     "name": "#%%\n"
    }
   }
  },
  {
   "cell_type": "code",
   "execution_count": 18,
   "outputs": [],
   "source": [
    "churn = pd.get_dummies(churn)"
   ],
   "metadata": {
    "collapsed": false,
    "pycharm": {
     "name": "#%%\n"
    }
   }
  },
  {
   "cell_type": "code",
   "execution_count": 19,
   "outputs": [
    {
     "data": {
      "text/plain": "   Partner_att  Dependents_att  landline  internet_att  internet_other  \\\n0            1               0         0             1               0   \n1            0               0         1             1               0   \n2            0               0         1             1               0   \n3            0               0         0             1               0   \n4            0               0         1             0               1   \n\n   StreamingTV  StreamingMovies  Contract_Month  Contract_1YR  PaymentBank  \\\n0            0                0               1             0            0   \n1            0                0               0             1            0   \n2            0                0               1             0            0   \n3            0                0               0             1            1   \n4            0                0               1             0            0   \n\n   PaymentCreditcard  PaymentElectronic  MonthlyCharges  TotalCharges  \\\n0                  0                  1           29.85         29.85   \n1                  0                  0           56.95       1889.50   \n2                  0                  0           53.85        108.15   \n3                  0                  0           42.30       1840.75   \n4                  0                  1           70.70        151.65   \n\n   Churn_Yes  gender_Female  \n0          0              1  \n1          0              0  \n2          1              0  \n3          0              0  \n4          1              1  ",
      "text/html": "<div>\n<style scoped>\n    .dataframe tbody tr th:only-of-type {\n        vertical-align: middle;\n    }\n\n    .dataframe tbody tr th {\n        vertical-align: top;\n    }\n\n    .dataframe thead th {\n        text-align: right;\n    }\n</style>\n<table border=\"1\" class=\"dataframe\">\n  <thead>\n    <tr style=\"text-align: right;\">\n      <th></th>\n      <th>Partner_att</th>\n      <th>Dependents_att</th>\n      <th>landline</th>\n      <th>internet_att</th>\n      <th>internet_other</th>\n      <th>StreamingTV</th>\n      <th>StreamingMovies</th>\n      <th>Contract_Month</th>\n      <th>Contract_1YR</th>\n      <th>PaymentBank</th>\n      <th>PaymentCreditcard</th>\n      <th>PaymentElectronic</th>\n      <th>MonthlyCharges</th>\n      <th>TotalCharges</th>\n      <th>Churn_Yes</th>\n      <th>gender_Female</th>\n    </tr>\n  </thead>\n  <tbody>\n    <tr>\n      <th>0</th>\n      <td>1</td>\n      <td>0</td>\n      <td>0</td>\n      <td>1</td>\n      <td>0</td>\n      <td>0</td>\n      <td>0</td>\n      <td>1</td>\n      <td>0</td>\n      <td>0</td>\n      <td>0</td>\n      <td>1</td>\n      <td>29.85</td>\n      <td>29.85</td>\n      <td>0</td>\n      <td>1</td>\n    </tr>\n    <tr>\n      <th>1</th>\n      <td>0</td>\n      <td>0</td>\n      <td>1</td>\n      <td>1</td>\n      <td>0</td>\n      <td>0</td>\n      <td>0</td>\n      <td>0</td>\n      <td>1</td>\n      <td>0</td>\n      <td>0</td>\n      <td>0</td>\n      <td>56.95</td>\n      <td>1889.50</td>\n      <td>0</td>\n      <td>0</td>\n    </tr>\n    <tr>\n      <th>2</th>\n      <td>0</td>\n      <td>0</td>\n      <td>1</td>\n      <td>1</td>\n      <td>0</td>\n      <td>0</td>\n      <td>0</td>\n      <td>1</td>\n      <td>0</td>\n      <td>0</td>\n      <td>0</td>\n      <td>0</td>\n      <td>53.85</td>\n      <td>108.15</td>\n      <td>1</td>\n      <td>0</td>\n    </tr>\n    <tr>\n      <th>3</th>\n      <td>0</td>\n      <td>0</td>\n      <td>0</td>\n      <td>1</td>\n      <td>0</td>\n      <td>0</td>\n      <td>0</td>\n      <td>0</td>\n      <td>1</td>\n      <td>1</td>\n      <td>0</td>\n      <td>0</td>\n      <td>42.30</td>\n      <td>1840.75</td>\n      <td>0</td>\n      <td>0</td>\n    </tr>\n    <tr>\n      <th>4</th>\n      <td>0</td>\n      <td>0</td>\n      <td>1</td>\n      <td>0</td>\n      <td>1</td>\n      <td>0</td>\n      <td>0</td>\n      <td>1</td>\n      <td>0</td>\n      <td>0</td>\n      <td>0</td>\n      <td>1</td>\n      <td>70.70</td>\n      <td>151.65</td>\n      <td>1</td>\n      <td>1</td>\n    </tr>\n  </tbody>\n</table>\n</div>"
     },
     "execution_count": 19,
     "metadata": {},
     "output_type": "execute_result"
    }
   ],
   "source": [
    "churn.drop(['Churn_No','gender_Male'],axis=1,inplace=True)\n",
    "churn.head()"
   ],
   "metadata": {
    "collapsed": false,
    "pycharm": {
     "name": "#%%\n"
    }
   }
  },
  {
   "cell_type": "code",
   "execution_count": 21,
   "outputs": [
    {
     "data": {
      "text/plain": "Index(['Partner_att', 'Dependents_att', 'landline', 'internet_att',\n       'internet_other', 'StreamingTV', 'StreamingMovies', 'Contract_Month',\n       'Contract_1YR', 'PaymentBank', 'PaymentCreditcard', 'PaymentElectronic',\n       'MonthlyCharges', 'TotalCharges', 'flag', 'gender_Female'],\n      dtype='object')"
     },
     "execution_count": 21,
     "metadata": {},
     "output_type": "execute_result"
    }
   ],
   "source": [
    "churn = churn.rename(columns={'Churn_Yes':'flagb'})\n",
    "churn.columns"
   ],
   "metadata": {
    "collapsed": false,
    "pycharm": {
     "name": "#%%\n"
    }
   }
  },
  {
   "cell_type": "code",
   "execution_count": 23,
   "outputs": [
    {
     "data": {
      "text/plain": "0    0.73463\n1    0.26537\nName: flag, dtype: float64"
     },
     "execution_count": 23,
     "metadata": {},
     "output_type": "execute_result"
    }
   ],
   "source": [
    "churn.flag.value_counts(1)"
   ],
   "metadata": {
    "collapsed": false,
    "pycharm": {
     "name": "#%%\n"
    }
   }
  },
  {
   "cell_type": "code",
   "execution_count": 24,
   "outputs": [
    {
     "data": {
      "text/plain": "      Partner_att  Dependents_att  landline  internet_att  internet_other  \\\nflag                                                                        \n0        0.528218        0.344801  0.901044      0.379204        0.347700   \n1        0.357945        0.174425  0.909042      0.245586        0.693954   \n\n      StreamingTV  StreamingMovies  Contract_Month  Contract_1YR  PaymentBank  \\\nflag                                                                            \n0        0.365868         0.369927        0.429068      0.252609     0.248550   \n1        0.435527         0.437667        0.885500      0.088818     0.138042   \n\n      PaymentCreditcard  PaymentElectronic  MonthlyCharges  TotalCharges  \\\nflag                                                                       \n0              0.249324           0.250097       61.265124   2545.918081   \n1              0.124131           0.573034       74.441332   1528.514714   \n\n      gender_Female  \nflag                 \n0          0.492656  \n1          0.502408  ",
      "text/html": "<div>\n<style scoped>\n    .dataframe tbody tr th:only-of-type {\n        vertical-align: middle;\n    }\n\n    .dataframe tbody tr th {\n        vertical-align: top;\n    }\n\n    .dataframe thead th {\n        text-align: right;\n    }\n</style>\n<table border=\"1\" class=\"dataframe\">\n  <thead>\n    <tr style=\"text-align: right;\">\n      <th></th>\n      <th>Partner_att</th>\n      <th>Dependents_att</th>\n      <th>landline</th>\n      <th>internet_att</th>\n      <th>internet_other</th>\n      <th>StreamingTV</th>\n      <th>StreamingMovies</th>\n      <th>Contract_Month</th>\n      <th>Contract_1YR</th>\n      <th>PaymentBank</th>\n      <th>PaymentCreditcard</th>\n      <th>PaymentElectronic</th>\n      <th>MonthlyCharges</th>\n      <th>TotalCharges</th>\n      <th>gender_Female</th>\n    </tr>\n    <tr>\n      <th>flag</th>\n      <th></th>\n      <th></th>\n      <th></th>\n      <th></th>\n      <th></th>\n      <th></th>\n      <th></th>\n      <th></th>\n      <th></th>\n      <th></th>\n      <th></th>\n      <th></th>\n      <th></th>\n      <th></th>\n      <th></th>\n    </tr>\n  </thead>\n  <tbody>\n    <tr>\n      <th>0</th>\n      <td>0.528218</td>\n      <td>0.344801</td>\n      <td>0.901044</td>\n      <td>0.379204</td>\n      <td>0.347700</td>\n      <td>0.365868</td>\n      <td>0.369927</td>\n      <td>0.429068</td>\n      <td>0.252609</td>\n      <td>0.248550</td>\n      <td>0.249324</td>\n      <td>0.250097</td>\n      <td>61.265124</td>\n      <td>2545.918081</td>\n      <td>0.492656</td>\n    </tr>\n    <tr>\n      <th>1</th>\n      <td>0.357945</td>\n      <td>0.174425</td>\n      <td>0.909042</td>\n      <td>0.245586</td>\n      <td>0.693954</td>\n      <td>0.435527</td>\n      <td>0.437667</td>\n      <td>0.885500</td>\n      <td>0.088818</td>\n      <td>0.138042</td>\n      <td>0.124131</td>\n      <td>0.573034</td>\n      <td>74.441332</td>\n      <td>1528.514714</td>\n      <td>0.502408</td>\n    </tr>\n  </tbody>\n</table>\n</div>"
     },
     "execution_count": 24,
     "metadata": {},
     "output_type": "execute_result"
    }
   ],
   "source": [
    "churn.groupby('flag').mean()"
   ],
   "metadata": {
    "collapsed": false,
    "pycharm": {
     "name": "#%%\n"
    }
   }
  },
  {
   "cell_type": "code",
   "execution_count": 25,
   "outputs": [
    {
     "data": {
      "text/plain": "<AxesSubplot:xlabel='count', ylabel='Contract_Month'>"
     },
     "execution_count": 25,
     "metadata": {},
     "output_type": "execute_result"
    },
    {
     "data": {
      "text/plain": "<Figure size 432x288 with 1 Axes>",
      "image/png": "[encoded data removed]"
     },
     "metadata": {
      "needs_background": "light"
     },
     "output_type": "display_data"
    }
   ],
   "source": [
    "sns.countplot(y='Contract_Month',hue='flag',data=churn)"
   ],
   "metadata": {
    "collapsed": false,
    "pycharm": {
     "name": "#%%\n"
    }
   }
  },
  {
   "cell_type": "code",
   "execution_count": 26,
   "outputs": [],
   "source": [
    "y = churn['flag']\n",
    "x = churn[['Contract_Month','internet_other','PaymentElectronic']]"
   ],
   "metadata": {
    "collapsed": false,
    "pycharm": {
     "name": "#%%\n"
    }
   }
  },
  {
   "cell_type": "code",
   "execution_count": 37,
   "outputs": [
    {
     "data": {
      "text/plain": "0.7624230951254141"
     },
     "execution_count": 37,
     "metadata": {},
     "output_type": "execute_result"
    }
   ],
   "source": [
    "# 训练集测试集划分\n",
    "from sklearn.model_selection import train_test_split\n",
    "x_train,x_test,y_train,y_test = train_test_split(x,y,test_size=0.3,random_state=100)\n",
    "# 模型训练\n",
    "lr = LogisticRegression()\n",
    "lr.fit(x_train,y_train)\n",
    "# 模型评估\n",
    "y_pred = lr.predict(x_test)\n",
    "from sklearn.metrics import accuracy_score\n",
    "from sklearn.metrics import roc_auc_score\n",
    "accuracy_score(y_test,y_pred)\n",
    "# 参数调整"
   ],
   "metadata": {
    "collapsed": false,
    "pycharm": {
     "name": "#%%\n"
    }
   }
  },
  {
   "cell_type": "code",
   "execution_count": 39,
   "outputs": [
    {
     "data": {
      "text/plain": "0.6472872378089588"
     },
     "execution_count": 39,
     "metadata": {},
     "output_type": "execute_result"
    }
   ],
   "source": [
    "roc_auc_score(y_test,y_pred)"
   ],
   "metadata": {
    "collapsed": false,
    "pycharm": {
     "name": "#%%\n"
    }
   }
  },
  {
   "cell_type": "code",
   "execution_count": 51,
   "outputs": [
    {
     "data": {
      "text/plain": "0.7278750591575959"
     },
     "execution_count": 51,
     "metadata": {},
     "output_type": "execute_result"
    }
   ],
   "source": [
    "lr = LogisticRegression(class_weight='balanced')\n",
    "lr.fit(x_train,y_train)\n",
    "# 模型评估\n",
    "y_pred = lr.predict(x_test)\n",
    "from sklearn.metrics import accuracy_score\n",
    "from sklearn.metrics import roc_auc_score\n",
    "accuracy_score(y_test,y_pred)"
   ],
   "metadata": {
    "collapsed": false,
    "pycharm": {
     "name": "#%%\n"
    }
   }
  },
  {
   "cell_type": "code",
   "execution_count": 52,
   "outputs": [
    {
     "data": {
      "text/plain": "array([[2.02904262, 1.06523664, 0.65214068]])"
     },
     "execution_count": 52,
     "metadata": {},
     "output_type": "execute_result"
    }
   ],
   "source": [
    "lr.coef_"
   ],
   "metadata": {
    "collapsed": false,
    "pycharm": {
     "name": "#%%\n"
    }
   }
  },
  {
   "cell_type": "code",
   "execution_count": 41,
   "outputs": [
    {
     "data": {
      "text/plain": "0.7273275986121549"
     },
     "execution_count": 41,
     "metadata": {},
     "output_type": "execute_result"
    }
   ],
   "source": [
    "roc_auc_score(y_test,y_pred)"
   ],
   "metadata": {
    "collapsed": false,
    "pycharm": {
     "name": "#%%\n"
    }
   }
  },
  {
   "cell_type": "code",
   "execution_count": 42,
   "outputs": [],
   "source": [
    "from sklearn.model_selection import StratifiedKFold\n",
    "from sklearn.model_selection import GridSearchCV\n",
    "kfold = StratifiedKFold(n_splits=5, shuffle=True)\n",
    "lr = LogisticRegression()\n",
    "param_grid = {'solver': ['newton-cg', 'lbfgs', 'liblinear'],\n",
    "              'C': [0.001, 0.01, 1, 10, 100],'class_weight':['balanced']}\n",
    "search = GridSearchCV(lr, param_grid, cv=kfold)\n",
    "lr = search.fit(x_train, y_train)"
   ],
   "metadata": {
    "collapsed": false,
    "pycharm": {
     "name": "#%%\n"
    }
   }
  },
  {
   "cell_type": "code",
   "execution_count": 43,
   "outputs": [
    {
     "data": {
      "text/plain": "LogisticRegression(C=0.01, class_weight='balanced', solver='newton-cg')"
     },
     "execution_count": 43,
     "metadata": {},
     "output_type": "execute_result"
    }
   ],
   "source": [
    "lr.best_estimator_"
   ],
   "metadata": {
    "collapsed": false,
    "pycharm": {
     "name": "#%%\n"
    }
   }
  },
  {
   "cell_type": "code",
   "execution_count": 44,
   "outputs": [
    {
     "data": {
      "text/plain": "{'C': 0.01, 'class_weight': 'balanced', 'solver': 'newton-cg'}"
     },
     "execution_count": 44,
     "metadata": {},
     "output_type": "execute_result"
    }
   ],
   "source": [
    "lr.best_params_"
   ],
   "metadata": {
    "collapsed": false,
    "pycharm": {
     "name": "#%%\n"
    }
   }
  },
  {
   "cell_type": "code",
   "execution_count": 45,
   "outputs": [
    {
     "data": {
      "text/plain": "0.7278750591575959"
     },
     "execution_count": 45,
     "metadata": {},
     "output_type": "execute_result"
    }
   ],
   "source": [
    "lr.score(x_test,y_test)"
   ],
   "metadata": {
    "collapsed": false,
    "pycharm": {
     "name": "#%%\n"
    }
   }
  }
 ],
 "metadata": {
  "kernelspec": {
   "display_name": "Python 3",
   "language": "python",
   "name": "python3"
  },
  "language_info": {
   "codemirror_mode": {
    "name": "ipython",
    "version": 2
   },
   "file_extension": ".py",
   "mimetype": "text/x-python",
   "name": "python",
   "nbconvert_exporter": "python",
   "pygments_lexer": "ipython2",
   "version": "2.7.6"
  }
 },
 "nbformat": 4,
 "nbformat_minor": 0
}